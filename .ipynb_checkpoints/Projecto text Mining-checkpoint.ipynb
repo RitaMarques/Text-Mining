{
 "cells": [
  {
   "cell_type": "markdown",
   "metadata": {},
   "source": [
    "## Limpeza do Corpora"
   ]
  },
  {
   "cell_type": "markdown",
   "metadata": {},
   "source": [
    "Resolvemos retirar todas as informações referentes à edição.\n",
    "Resolvemos retirar todo o texto não do autor, ou não directamente referente ao texto escrito:\n",
    "    notas finais\n",
    "    notas de editor\n",
    "    notas de digitalização\n",
    "    palavra: fim\n",
    "    prefácios\n",
    "    Indice\n",
    "Porque o modelo pretende identificar autores através de excertos dos livros, que muito provavelmente não incluem esta informação, já que se a contivessem, a identificação do autor não carecia de um modelo.\n"
   ]
  },
  {
   "cell_type": "code",
   "execution_count": null,
   "metadata": {},
   "outputs": [],
   "source": []
  }
 ],
 "metadata": {
  "kernelspec": {
   "display_name": "Python 3",
   "language": "python",
   "name": "python3"
  },
  "language_info": {
   "codemirror_mode": {
    "name": "ipython",
    "version": 3
   },
   "file_extension": ".py",
   "mimetype": "text/x-python",
   "name": "python",
   "nbconvert_exporter": "python",
   "pygments_lexer": "ipython3",
   "version": "3.7.4"
  }
 },
 "nbformat": 4,
 "nbformat_minor": 2
}
