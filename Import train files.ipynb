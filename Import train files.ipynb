{
 "cells": [
  {
   "cell_type": "code",
   "execution_count": 100,
   "metadata": {},
   "outputs": [],
   "source": [
    "import pandas as pd\n",
    "import numpy as np\n",
    "import os"
   ]
  },
  {
   "cell_type": "code",
   "execution_count": 101,
   "metadata": {},
   "outputs": [],
   "source": [
    "os.chdir(r'C:\\Users\\Sofia\\OneDrive - NOVAIMS\\Nova IMS\\Mestrado\\2º semestre\\Text Mining\\Projeto\\Text-Mining\\Corpora\\train')"
   ]
  },
  {
   "cell_type": "code",
   "execution_count": 102,
   "metadata": {},
   "outputs": [],
   "source": [
    "def import_folder_files (directory):\n",
    "    \n",
    "    f=[]\n",
    "    for root,dirs,files in os.walk(directory):\n",
    "        for file in files:\n",
    "            if file.endswith(\".txt\"):\n",
    "                f1=open(directory+'\\\\'+file,\"r\",encoding='utf-8')\n",
    "                f1=f1.read()\n",
    "                f.append(f1)\n",
    "    return f"
   ]
  },
  {
   "cell_type": "code",
   "execution_count": 103,
   "metadata": {},
   "outputs": [],
   "source": [
    "AlmadaNegreiros = import_folder_files('AlmadaNegreiros')"
   ]
  },
  {
   "cell_type": "code",
   "execution_count": 104,
   "metadata": {},
   "outputs": [],
   "source": [
    "Camilo = import_folder_files('CamiloCasteloBranco')"
   ]
  },
  {
   "cell_type": "code",
   "execution_count": 105,
   "metadata": {},
   "outputs": [],
   "source": [
    "EcaQueiros = import_folder_files('EcaDeQueiros')"
   ]
  },
  {
   "cell_type": "code",
   "execution_count": 106,
   "metadata": {},
   "outputs": [],
   "source": [
    "JoseRodriguesSantos = import_folder_files('JoseRodriguesSantos')"
   ]
  },
  {
   "cell_type": "code",
   "execution_count": 107,
   "metadata": {},
   "outputs": [],
   "source": [
    "JoseSaramago = import_folder_files('JoseSaramago')"
   ]
  },
  {
   "cell_type": "code",
   "execution_count": 108,
   "metadata": {},
   "outputs": [],
   "source": [
    "LuisaMarquesSilva = import_folder_files('LuisaMarquesSilva')"
   ]
  },
  {
   "cell_type": "code",
   "execution_count": 109,
   "metadata": {},
   "outputs": [],
   "source": [
    "textos_labels = [[AlmadaNegreiros,'Almada Negreiros'],[Camilo,'Camilo Castelo Branco'],[EcaQueiros,'Eça de Queiros'],[JoseRodriguesSantos,'José Rodrigues dos Santos'],[JoseSaramago,'José Saramago'],[LuisaMarquesSilva,'Luísa Marques Silva']]"
   ]
  },
  {
   "cell_type": "code",
   "execution_count": 110,
   "metadata": {},
   "outputs": [],
   "source": [
    "df = pd.DataFrame(columns=['Text','Label'])"
   ]
  },
  {
   "cell_type": "code",
   "execution_count": 111,
   "metadata": {},
   "outputs": [],
   "source": [
    "for lista in textos_labels:\n",
    "\n",
    "    df_aux = pd.DataFrame({'Text':lista[0],\n",
    "                          'Label':lista[1]})\n",
    "    \n",
    "    df = df.append(df_aux,ignore_index = True)"
   ]
  },
  {
   "cell_type": "code",
   "execution_count": 112,
   "metadata": {},
   "outputs": [
    {
     "data": {
      "text/html": [
       "<div>\n",
       "<style scoped>\n",
       "    .dataframe tbody tr th:only-of-type {\n",
       "        vertical-align: middle;\n",
       "    }\n",
       "\n",
       "    .dataframe tbody tr th {\n",
       "        vertical-align: top;\n",
       "    }\n",
       "\n",
       "    .dataframe thead th {\n",
       "        text-align: right;\n",
       "    }\n",
       "</style>\n",
       "<table border=\"1\" class=\"dataframe\">\n",
       "  <thead>\n",
       "    <tr style=\"text-align: right;\">\n",
       "      <th></th>\n",
       "      <th>Text</th>\n",
       "      <th>Label</th>\n",
       "    </tr>\n",
       "  </thead>\n",
       "  <tbody>\n",
       "    <tr>\n",
       "      <td>0</td>\n",
       "      <td>A Scena do Odio\\n\\nA ALVARO DE CAMPOS\\n\\n_Exce...</td>\n",
       "      <td>Almada Negreiros</td>\n",
       "    </tr>\n",
       "    <tr>\n",
       "      <td>1</td>\n",
       "      <td>O Jardim da Pierrette\\n\\n+Argumento do bailado...</td>\n",
       "      <td>Almada Negreiros</td>\n",
       "    </tr>\n",
       "    <tr>\n",
       "      <td>2</td>\n",
       "      <td>A Invenção do Dia Claro\\n\\nEntrei numa livrari...</td>\n",
       "      <td>Almada Negreiros</td>\n",
       "    </tr>\n",
       "    <tr>\n",
       "      <td>3</td>\n",
       "      <td>\\nLitoral\\n       A Amadeo de Souza Cardozo\\n\\...</td>\n",
       "      <td>Almada Negreiros</td>\n",
       "    </tr>\n",
       "    <tr>\n",
       "      <td>4</td>\n",
       "      <td>\\nEm Portugal existe uma unica opinião sobre A...</td>\n",
       "      <td>Almada Negreiros</td>\n",
       "    </tr>\n",
       "    <tr>\n",
       "      <td>...</td>\n",
       "      <td>...</td>\n",
       "      <td>...</td>\n",
       "    </tr>\n",
       "    <tr>\n",
       "      <td>58</td>\n",
       "      <td>e-medo\\n\\nAs mensagens que se seguem foram env...</td>\n",
       "      <td>Luísa Marques Silva</td>\n",
       "    </tr>\n",
       "    <tr>\n",
       "      <td>59</td>\n",
       "      <td>LISBOA 2050\\nLisboa, ano de 2050. Um Agosto tã...</td>\n",
       "      <td>Luísa Marques Silva</td>\n",
       "    </tr>\n",
       "    <tr>\n",
       "      <td>60</td>\n",
       "      <td>Um passeio pelo inferno\\n\\nImaginem uma planíc...</td>\n",
       "      <td>Luísa Marques Silva</td>\n",
       "    </tr>\n",
       "    <tr>\n",
       "      <td>61</td>\n",
       "      <td>Rapsódia sem dó (maior)\\n\\nGravação número 1 d...</td>\n",
       "      <td>Luísa Marques Silva</td>\n",
       "    </tr>\n",
       "    <tr>\n",
       "      <td>62</td>\n",
       "      <td>A última história\\n\\nO PEQUENO ALMOÇO\\nNo dia ...</td>\n",
       "      <td>Luísa Marques Silva</td>\n",
       "    </tr>\n",
       "  </tbody>\n",
       "</table>\n",
       "<p>63 rows × 2 columns</p>\n",
       "</div>"
      ],
      "text/plain": [
       "                                                 Text                Label\n",
       "0   A Scena do Odio\\n\\nA ALVARO DE CAMPOS\\n\\n_Exce...     Almada Negreiros\n",
       "1   O Jardim da Pierrette\\n\\n+Argumento do bailado...     Almada Negreiros\n",
       "2   A Invenção do Dia Claro\\n\\nEntrei numa livrari...     Almada Negreiros\n",
       "3   \\nLitoral\\n       A Amadeo de Souza Cardozo\\n\\...     Almada Negreiros\n",
       "4   \\nEm Portugal existe uma unica opinião sobre A...     Almada Negreiros\n",
       "..                                                ...                  ...\n",
       "58  e-medo\\n\\nAs mensagens que se seguem foram env...  Luísa Marques Silva\n",
       "59  LISBOA 2050\\nLisboa, ano de 2050. Um Agosto tã...  Luísa Marques Silva\n",
       "60  Um passeio pelo inferno\\n\\nImaginem uma planíc...  Luísa Marques Silva\n",
       "61  Rapsódia sem dó (maior)\\n\\nGravação número 1 d...  Luísa Marques Silva\n",
       "62  A última história\\n\\nO PEQUENO ALMOÇO\\nNo dia ...  Luísa Marques Silva\n",
       "\n",
       "[63 rows x 2 columns]"
      ]
     },
     "execution_count": 112,
     "metadata": {},
     "output_type": "execute_result"
    }
   ],
   "source": [
    "df"
   ]
  },
  {
   "cell_type": "code",
   "execution_count": null,
   "metadata": {},
   "outputs": [],
   "source": []
  }
 ],
 "metadata": {
  "kernelspec": {
   "display_name": "Python 3",
   "language": "python",
   "name": "python3"
  },
  "language_info": {
   "codemirror_mode": {
    "name": "ipython",
    "version": 3
   },
   "file_extension": ".py",
   "mimetype": "text/x-python",
   "name": "python",
   "nbconvert_exporter": "python",
   "pygments_lexer": "ipython3",
   "version": "3.7.4"
  }
 },
 "nbformat": 4,
 "nbformat_minor": 2
}
